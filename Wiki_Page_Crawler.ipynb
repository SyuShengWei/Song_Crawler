{
 "cells": [
  {
   "cell_type": "code",
   "execution_count": 29,
   "metadata": {},
   "outputs": [],
   "source": [
    "from urllib import request\n",
    "from bs4 import BeautifulSoup\n"
   ]
  },
  {
   "cell_type": "code",
   "execution_count": 48,
   "metadata": {
    "collapsed": true
   },
   "outputs": [],
   "source": [
    "Band_List = []"
   ]
  },
  {
   "cell_type": "code",
   "execution_count": 30,
   "metadata": {
    "collapsed": true
   },
   "outputs": [],
   "source": [
    "wiki_page = 'https://zh.wikipedia.org/wiki/%E5%8F%B0%E7%81%A3%E6%A8%82%E5%9C%98%E5%88%97%E8%A1%A8'"
   ]
  },
  {
   "cell_type": "code",
   "execution_count": 31,
   "metadata": {},
   "outputs": [],
   "source": [
    "request_page = request.urlopen(wiki_page)"
   ]
  },
  {
   "cell_type": "code",
   "execution_count": 32,
   "metadata": {},
   "outputs": [],
   "source": [
    "page = request_page.read()"
   ]
  },
  {
   "cell_type": "code",
   "execution_count": 33,
   "metadata": {},
   "outputs": [],
   "source": [
    "page = page.decode('utf8')"
   ]
  },
  {
   "cell_type": "code",
   "execution_count": 34,
   "metadata": {
    "collapsed": true
   },
   "outputs": [],
   "source": [
    "soup = BeautifulSoup(page, 'html.parser')"
   ]
  },
  {
   "cell_type": "code",
   "execution_count": 42,
   "metadata": {},
   "outputs": [],
   "source": [
    "span_tag = soup.find_all('span')"
   ]
  },
  {
   "cell_type": "code",
   "execution_count": 49,
   "metadata": {},
   "outputs": [],
   "source": [
    "for tag in span_tag:\n",
    "    if tag.get('style') == \"display:inline-block;width:10em;\":\n",
    "        Band_List.append(tag.text)"
   ]
  },
  {
   "cell_type": "code",
   "execution_count": 52,
   "metadata": {},
   "outputs": [],
   "source": [
    "div_tag = soup.find_all(\"div\")"
   ]
  },
  {
   "cell_type": "code",
   "execution_count": 67,
   "metadata": {},
   "outputs": [],
   "source": [
    "for tag in div_tag:\n",
    "    if tag.get(\"style\") == \"padding:0em 0.25em\":\n",
    "        for band in tag.find_all('li'):\n",
    "            if (band.text) not in Band_List:\n",
    "                Band_List.append(band.text)"
   ]
  },
  {
   "cell_type": "code",
   "execution_count": 69,
   "metadata": {},
   "outputs": [
    {
     "name": "stdout",
     "output_type": "stream",
     "text": [
      "['100%樂團', '1976', 'A-TEAM', 'BIKE', 'BOXING樂團', 'Baboo', \"Break One's All 衝擊人生\", 'Crispy脆樂團', 'Double X', 'EAST WAVE 東波', 'Editec樂團', 'F.I.R.飛兒樂團', 'FLUX樂團', 'Fun4', 'Generation7', 'HELLO NICO', 'HiJack', 'Hola Friday', 'Hush!', 'I-WANT星勢力', 'MATZKA', 'MP魔幻力量', 'NPE自由引力', 'Neurosiser', 'Nightcap睡帽樂團', 'PAG', 'PLAN-D樂團', 'PiA樂團', 'ROSY玫瑰紅', 'TRASH樂團', 'The GateS樂團', 'Tizzy Bac', 'Zayin展翼', 'deca joins', 'io樂團', '七字輩', '三十萬年老虎鉗', '不是桃樂絲', '亂彈', '五月天', '交工樂隊', '佛跳牆', '來吧！焙焙！', '信樂團', '偷摸大雞', '傻子與白痴', '先知瑪莉', '八三夭', '前進樂團', '化學猴子', '原子邦妮', '台灣爽樂團', '嘴哥樂團', '四分衛樂團', '回聲樂團', '圖騰樂團', '夕陽武士', '多樂園', '大忙人', '大象體操', '大賀兄弟', '太妃堂TOFFEE', '夾子電動大樂隊', '女孩與機器人', '孔雀眼', '存活勢力', '孩子王', '宇宙人', '安妮朵拉', '完形少女', '小宇宙樂團', '小男孩樂團', '小護士樂團', '巨大的轟鳴', '幻日', '幻眼合唱團', '廢五金', '廢物', '張三李四', '強辯樂團', '怕胖團', '惡鄰居樂團', '慢慢說樂團', '我們愛', '拷秋勤', '拾參樂團', '搖滾東方', '擊沉女孩', '放客兄弟', '放射空間', '救救可可', '教練樂團', '新寶島康樂隊', '旺福', '昏鴉', '東城衛', '柳葉魚', '棉花糖', '橙草', '櫻桃幫', '法蘭黛樂團', '淺堤', '滅火器樂團', '激膚樂團', '濁水溪公社', '無雙樂團', '熊寶貝樂團', '猛虎巧克力', '猴子飛行員', '獅子合唱團', '瓢蟲', '甜梅號', '甜約翰', '發條人', '皇后皮箱', '禁地合唱團', '粉紅啤酒', '精神解放樂隊', '糯米糰', '紅水', '紅花樂團', '紅螞蟻合唱團', '絲襪小姐', '縱貫線', '美秀集團', '老王樂隊', '胖虎樂團', '脆弱少女組', '脫拉庫', '自然捲', '花世紀', '英俊泥', '茄子蛋', '草地人', '草東沒有派對', '草莓救星', '落日飛車', '董事長樂團', '蘇打綠', '表兒樂團', '記號士', '謊言留聲機', '輕晨電', '輕鬆玩', '透明雜誌', '這位太太', '那我懂你意思了', '酷愛樂團', '鐵之女', '鐵怒空', '閃靈樂團', '隨心所欲樂團', '隨性樂團', '霧虹', '青年合唱團', '非人物種', '香蕉小姐', '骨肉皮', '麋先生', '黃子軒與山平快']\n"
     ]
    }
   ],
   "source": [
    "print(sorted(Band_List))"
   ]
  },
  {
   "cell_type": "code",
   "execution_count": 79,
   "metadata": {},
   "outputs": [],
   "source": [
    "#import codecs\n",
    "#with codecs.open('chinese_band.csv','w',encoding = 'utf8') as outfile:\n",
    "#    for i in range(len(Band_List)):\n",
    "#        outfile.write(Band_List[i])\n",
    "#        if i != len(Band_List) -1:\n",
    "#            outfile.write('\\n')     "
   ]
  },
  {
   "cell_type": "code",
   "execution_count": null,
   "metadata": {
    "collapsed": true
   },
   "outputs": [],
   "source": []
  }
 ],
 "metadata": {
  "kernelspec": {
   "display_name": "Python 3",
   "language": "python",
   "name": "python3"
  },
  "language_info": {
   "codemirror_mode": {
    "name": "ipython",
    "version": 3
   },
   "file_extension": ".py",
   "mimetype": "text/x-python",
   "name": "python",
   "nbconvert_exporter": "python",
   "pygments_lexer": "ipython3",
   "version": "3.6.1"
  }
 },
 "nbformat": 4,
 "nbformat_minor": 2
}

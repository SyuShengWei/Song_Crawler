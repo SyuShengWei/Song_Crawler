{
 "cells": [
  {
   "cell_type": "code",
   "execution_count": 1,
   "metadata": {
    "collapsed": true
   },
   "outputs": [],
   "source": [
    "#Read Band List \n",
    "Band_List = []\n",
    "fileName = 'chinese_band.csv'\n",
    "with open (fileName,'r') as infile:\n",
    "    Band_List = infile.readlines()\n",
    "for i in range(len(Band_List)):\n",
    "    Band_List[i] = Band_List[i].replace('\\n','')"
   ]
  },
  {
   "cell_type": "code",
   "execution_count": 2,
   "metadata": {
    "collapsed": true
   },
   "outputs": [],
   "source": [
    "class Artist(object):\n",
    "    def __init__(self, name):\n",
    "        self.name = name\n",
    "        self.Album_Dict = {}\n",
    "    def __repr__(self):\n",
    "        return self.name\n",
    "    \n",
    "    def addAlbum(self,album_name):\n",
    "        self.Album_Dict.update({album_name,Dict()})\n",
    "    \n",
    "class Album(object):\n",
    "    def __init(self, name):\n",
    "        self.name = name\n",
    "        self.Song_Dict = {}\n",
    "        \n",
    "    def addSong(self, song_no, song_name):\n",
    "        self.Song_Dict.update({song_no : song_name})"
   ]
  },
  {
   "cell_type": "code",
   "execution_count": 3,
   "metadata": {},
   "outputs": [
    {
     "name": "stdout",
     "output_type": "stream",
     "text": [
      "User name of MusicBrainz : feather8405\n",
      "Password for MusicBrainz : ········\n"
     ]
    }
   ],
   "source": [
    "#login MusicBrainz\n",
    "import getpass\n",
    "import musicbrainzngs\n",
    "username = input(\"User name of MusicBrainz : \")\n",
    "password = getpass.getpass(\"Password for MusicBrainz : \")\n",
    "musicbrainzngs.auth(username, password)\n",
    "musicbrainzngs.set_useragent('Song_List_Crawler','1')"
   ]
  },
  {
   "cell_type": "code",
   "execution_count": 41,
   "metadata": {},
   "outputs": [],
   "source": [
    "Band_ID = {}\n",
    "song_area = 'TW'\n",
    "for Band in Band_List:\n",
    "    #search by band name\n",
    "    band_id = ''\n",
    "    try: \n",
    "        Artist_Search =  musicbrainzngs.search_artists(Band)\n",
    "    except: \n",
    "        print(\"Can't find band : \",Band)\n",
    "        continue\n",
    "    #Add search result\n",
    "    sameNameBand = []\n",
    "    for result_band in Artist_Search['artist-list']:\n",
    "        try:\n",
    "            if result_band['name'] ==  Band:\n",
    "                sameNameBand.append( result_band )\n",
    "        except: print(result_band)\n",
    "    \n",
    "    #print(sameNameBand )\n",
    "    \n",
    "    if len(sameNameBand) == 1 :\n",
    "        Band_ID.update({sameNameBand[0]['name']:sameNameBand[0]['id']})\n",
    "    else:\n",
    "        for same_name in sameNameBand:\n",
    "            if same_name['country'] == song_area:\n",
    "                Band_ID.update({same_name['name'] : same_name['id'] })\n",
    "    "
   ]
  },
  {
   "cell_type": "code",
   "execution_count": 42,
   "metadata": {},
   "outputs": [
    {
     "data": {
      "text/plain": [
       "46"
      ]
     },
     "execution_count": 42,
     "metadata": {},
     "output_type": "execute_result"
    }
   ],
   "source": [
    "len(Band_ID)"
   ]
  },
  {
   "cell_type": "code",
   "execution_count": 43,
   "metadata": {},
   "outputs": [
    {
     "data": {
      "text/plain": [
       "{'100%樂團': '06e91497-156c-4dbe-bef1-7e5f7c6f4809',\n",
       " '1976': 'b949e951-e5b8-485f-a0ff-a438a56b8578',\n",
       " 'BIKE': '4871c747-5510-414e-bcfc-c22ee873be28',\n",
       " 'BOXING樂團': '4f8a07d0-9a40-4c1d-a6a8-2b0bdc23e4e7',\n",
       " 'HiJack': '9f34de89-219c-4491-9714-a2fff514765b',\n",
       " 'PiA樂團': 'e5c90f80-9a0c-4391-adbe-e1cf07f3808a',\n",
       " 'Tizzy Bac': '597b05aa-d273-48c2-b151-a912e0ed942b',\n",
       " '亂彈': '473b0e3f-5169-4f5e-a707-3ea2b2f13a80',\n",
       " '五月天': 'e73ed332-bbde-4d69-87a9-250627ae0e29',\n",
       " '交工樂隊': '5a24e49a-433f-4ba4-a999-c0a6ac1768f4',\n",
       " '來吧！焙焙！': '824db15a-750c-4c4a-943a-5aa24f80d969',\n",
       " '信樂團': '134d6ced-89e3-4c80-8b59-95014beb0977',\n",
       " '八三夭': '895d6f19-a15d-4922-ac32-eb0ce7943496',\n",
       " '前進樂團': '75ec42bb-fe83-4bf9-9e7a-4e69e9da04f7',\n",
       " '原子邦妮': '25044792-a0be-4386-8af2-fa0127b5e501',\n",
       " '回聲樂團': '025522c5-dc7f-4037-9b81-167cf52b615b',\n",
       " '大象體操': '9fdc68d1-98ac-463c-a309-181b58c74aed',\n",
       " '宇宙人': '75fffb0e-184a-403f-8d5d-9dd822a58217',\n",
       " '拷秋勤': '5c6711d5-7571-4507-b2fd-96dc3750e0e0',\n",
       " '拾參樂團': '16422583-55a5-4bd3-b41d-38ae8a5293a1',\n",
       " '新寶島康樂隊': 'cd2750cf-ac68-41ce-b25c-8b8894e1d4cf',\n",
       " '旺福': 'd6e0f166-4692-4395-86a9-5d11cc7a2899',\n",
       " '東城衛': '728b3f36-a642-43c9-990f-85b9af0fb8b7',\n",
       " '棉花糖': 'e2c0f544-3cf6-49ad-aea8-2a8dfa472175',\n",
       " '橙草': 'e169f895-c948-464e-ba37-a87b73a41d36',\n",
       " '滅火器': '655ba39c-f754-4ed1-adac-4b2258598ade',\n",
       " '濁水溪公社': 'e0859944-2869-41c5-927d-cf894f331a50',\n",
       " '熊寶貝樂團': '464236cb-526d-44b6-ab45-d9b600340c06',\n",
       " '猛虎巧克力': '5ed042fb-51a0-4971-8340-fb7a88985d2b',\n",
       " '獅子合唱團': '0d4db99a-84e2-42b2-af30-44b5683f4b6a',\n",
       " '甜梅號': 'a8fa1960-eaed-4933-853e-42244a7367c0',\n",
       " '糯米糰': '41aed5a2-3227-4c5d-a732-d1b7528bfad9',\n",
       " '絲襪小姐': 'f3e9372e-a688-46c6-bf87-be233589f304',\n",
       " '縱貫線': 'addc0a07-200e-4487-bd87-c0d8fac39a6b',\n",
       " '脫拉庫': 'c0dab6aa-cc48-44db-a00e-de1b024d889f',\n",
       " '自然捲': '0d3bda23-254c-468c-a4e1-6db9aae24e98',\n",
       " '草東沒有派對': '1636f82a-b541-4867-9eb7-e4b224552eef',\n",
       " '草莓救星': 'de0b9235-a2bb-4d7d-9c1b-0d6c4baf4c5a',\n",
       " '董事長樂團': 'd10a5364-a190-4e5d-b3bf-e3952769f905',\n",
       " '蘇打綠': 'a8fd2a44-2f72-47ea-a6ce-96e8bd7059ec',\n",
       " '輕晨電': '5e678d09-426a-412d-a30c-eaa6db0bd815',\n",
       " '輕鬆玩': '82ca29b4-7b96-43b7-b69b-1aea0150f02c',\n",
       " '透明雜誌': '7fac92e8-92a5-4d99-bdf0-6e6c8e3aadcb',\n",
       " '這位太太': 'f53aca60-7133-408a-9beb-e800452e1246',\n",
       " '那我懂你意思了': 'd25a2100-9eae-4c87-ac1f-3f964cbf126c',\n",
       " '青年合唱團': '020e537b-4c2e-49f5-8c9e-9d23b5e38fec'}"
      ]
     },
     "execution_count": 43,
     "metadata": {},
     "output_type": "execute_result"
    }
   ],
   "source": [
    "Band_ID"
   ]
  },
  {
   "cell_type": "code",
   "execution_count": 54,
   "metadata": {},
   "outputs": [
    {
     "name": "stdout",
     "output_type": "stream",
     "text": [
      "宇宙人 75fffb0e-184a-403f-8d5d-9dd822a58217\n",
      "濁水溪公社 e0859944-2869-41c5-927d-cf894f331a50\n",
      "新寶島康樂隊 cd2750cf-ac68-41ce-b25c-8b8894e1d4cf\n",
      "糯米糰 41aed5a2-3227-4c5d-a732-d1b7528bfad9\n",
      "1976 b949e951-e5b8-485f-a0ff-a438a56b8578\n",
      "五月天 e73ed332-bbde-4d69-87a9-250627ae0e29\n",
      "董事長樂團 d10a5364-a190-4e5d-b3bf-e3952769f905\n",
      "亂彈 473b0e3f-5169-4f5e-a707-3ea2b2f13a80\n",
      "甜梅號 a8fa1960-eaed-4933-853e-42244a7367c0\n",
      "草莓救星 de0b9235-a2bb-4d7d-9c1b-0d6c4baf4c5a\n",
      "輕鬆玩 82ca29b4-7b96-43b7-b69b-1aea0150f02c\n",
      "旺福 d6e0f166-4692-4395-86a9-5d11cc7a2899\n",
      "回聲樂團 025522c5-dc7f-4037-9b81-167cf52b615b\n",
      "脫拉庫 c0dab6aa-cc48-44db-a00e-de1b024d889f\n",
      "交工樂隊 5a24e49a-433f-4ba4-a999-c0a6ac1768f4\n",
      "Tizzy Bac 597b05aa-d273-48c2-b151-a912e0ed942b\n",
      "拾參樂團 16422583-55a5-4bd3-b41d-38ae8a5293a1\n",
      "熊寶貝樂團 464236cb-526d-44b6-ab45-d9b600340c06\n",
      "滅火器 655ba39c-f754-4ed1-adac-4b2258598ade\n",
      "蘇打綠 a8fd2a44-2f72-47ea-a6ce-96e8bd7059ec\n",
      "信樂團 134d6ced-89e3-4c80-8b59-95014beb0977\n",
      "拷秋勤 5c6711d5-7571-4507-b2fd-96dc3750e0e0\n",
      "自然捲 0d3bda23-254c-468c-a4e1-6db9aae24e98\n",
      "絲襪小姐 f3e9372e-a688-46c6-bf87-be233589f304\n",
      "這位太太 f53aca60-7133-408a-9beb-e800452e1246\n",
      "橙草 e169f895-c948-464e-ba37-a87b73a41d36\n",
      "東城衛 728b3f36-a642-43c9-990f-85b9af0fb8b7\n",
      "來吧！焙焙！ 824db15a-750c-4c4a-943a-5aa24f80d969\n",
      "八三夭 895d6f19-a15d-4922-ac32-eb0ce7943496\n",
      "縱貫線 addc0a07-200e-4487-bd87-c0d8fac39a6b\n",
      "輕晨電 5e678d09-426a-412d-a30c-eaa6db0bd815\n",
      "PiA樂團 e5c90f80-9a0c-4391-adbe-e1cf07f3808a\n",
      "透明雜誌 7fac92e8-92a5-4d99-bdf0-6e6c8e3aadcb\n",
      "那我懂你意思了 d25a2100-9eae-4c87-ac1f-3f964cbf126c\n",
      "大象體操 9fdc68d1-98ac-463c-a309-181b58c74aed\n",
      "原子邦妮 25044792-a0be-4386-8af2-fa0127b5e501\n",
      "猛虎巧克力 5ed042fb-51a0-4971-8340-fb7a88985d2b\n",
      "BOXING樂團 4f8a07d0-9a40-4c1d-a6a8-2b0bdc23e4e7\n",
      "草東沒有派對 1636f82a-b541-4867-9eb7-e4b224552eef\n",
      "獅子合唱團 0d4db99a-84e2-42b2-af30-44b5683f4b6a\n",
      "前進樂團 75ec42bb-fe83-4bf9-9e7a-4e69e9da04f7\n",
      "HiJack 9f34de89-219c-4491-9714-a2fff514765b\n",
      "100%樂團 06e91497-156c-4dbe-bef1-7e5f7c6f4809\n",
      "BIKE 4871c747-5510-414e-bcfc-c22ee873be28\n",
      "青年合唱團 020e537b-4c2e-49f5-8c9e-9d23b5e38fec\n",
      "棉花糖 e2c0f544-3cf6-49ad-aea8-2a8dfa472175\n"
     ]
    }
   ],
   "source": [
    "Band_Song = {}\n",
    "for band_name in Band_ID:\n",
    "    print(band_name,Band_ID[band_name])\n",
    "    \n",
    "    Song_List = []\n",
    "    try:\n",
    "        song_search_result = musicbrainzngs.browse_recordings(Band_ID[band_name],limit=10000)\n",
    "    except:\n",
    "        print(\"Can't find Song of Band\",band_name)\n",
    "        continue\n",
    "    for song in song_search_result['recording-list']:\n",
    "        if '惡の華' not in song['title']:\n",
    "            Song_List.append(song['title'])\n",
    "    #print(Song_List)\n",
    "    Band_Song.update({band_name:Song_List})"
   ]
  },
  {
   "cell_type": "code",
   "execution_count": 56,
   "metadata": {},
   "outputs": [
    {
     "data": {
      "text/plain": [
       "['Intro', '勇敢的人', '爛泥', '在', '艾瑪', '醜', '鬼', '大風吹', '情歌', '我們', '等', '山海']"
      ]
     },
     "execution_count": 56,
     "metadata": {},
     "output_type": "execute_result"
    }
   ],
   "source": [
    "Band_Song['草東沒有派對']"
   ]
  },
  {
   "cell_type": "code",
   "execution_count": 62,
   "metadata": {},
   "outputs": [
    {
     "name": "stdout",
     "output_type": "stream",
     "text": [
      "Username for last.fm : feather8405\n",
      "Password for last.fm : ········\n"
     ]
    }
   ],
   "source": [
    "import pylast\n",
    "API_KEY = \"761ed93bfcab1f36f93fb293e9971abb\"\n",
    "API_SECRET = \"aad8d63d9790603f88b7857b0809dce5\"\n",
    "username =      input(\"Username for last.fm : \")\n",
    "password_hash = pylast.md5(getpass.getpass(\"Password for last.fm : \"))\n",
    "network = pylast.LastFMNetwork(api_key = API_KEY, \n",
    "                               api_secret = API_SECRET, \n",
    "                               username = username, \n",
    "                               password_hash = password_hash)"
   ]
  },
  {
   "cell_type": "code",
   "execution_count": 78,
   "metadata": {},
   "outputs": [
    {
     "name": "stdout",
     "output_type": "stream",
     "text": [
      "can't find tags :  Shinning\n",
      "can't find tags :  救命恩人\n",
      "can't find tags :  Silicon Bullets\n",
      "can't find tags :  走吧!走吧！\n",
      "can't find tags :  跆拳道/好狗\n",
      "can't find tags :  Disco Night/的士夠格\n",
      "can't find tags :  星期六晚上你要帶我去那邊/亂世兒女\n",
      "can't find tags :  Belief 〜春を待つ君へ〜\n",
      "can't find tags :  YOUR LEGEND 〜燃ゆる命〜 (將軍令 日本語ver.)\n",
      "can't find tags :  九號球幕後紀實\n",
      "can't find tags :  無明火起\n",
      "can't find tags :  愛拼才會贏\n",
      "can't find tags :  甜蜜蜜\n",
      "can't find tags :  County Road 184\n",
      "can't find tags :  口白 - 英文诗 2\n",
      "can't find tags :  [silence]\n",
      "can't find tags :  口白 - 英文诗 3\n",
      "can't find tags :  口白 - 英文诗 1\n",
      "can't find tags :  [silent]\n",
      "can't find tags :  [silence]\n",
      "can't find tags :  電光影戲夢 (Schizyway remix)\n",
      "can't find tags :  I need your loving.\n",
      "can't find tags :  官逼民反 Part.2\n",
      "can't find tags :  對手 (終極三國片頭曲)\n",
      "can't find tags :  乾啦 乾啦\n",
      "can't find tags :  天使的眼泪\n",
      "can't find tags :  纵贯线兄弟姊妹\n",
      "can't find tags :  如果有一天\n",
      "can't find tags :  荒唐\n",
      "can't find tags :  幻覺\n",
      "can't find tags :  我是比較幽默\n",
      "can't find tags :  想你在\n",
      "can't find tags :  生活需要多一點樂觀\n",
      "can't find tags :  一杯冰啤酒\n",
      "can't find tags :  低潮\n",
      "can't find tags :  禮物\n",
      "can't find tags :  青春的尾巴\n",
      "can't find tags :  飛行少年\n",
      "can't find tags :  Hijackin (Herves Unreleased remix)\n",
      "can't find tags :  Hijackin (Herve's Flick remix)\n",
      "can't find tags :  我要去哪裡\n",
      "can't find tags :  黯淡的夜\n",
      "can't find tags :  電影\n",
      "can't find tags :  一起\n",
      "can't find tags :  那種女孩\n",
      "can't find tags :  主人\n",
      "can't find tags :  幽默感\n",
      "can't find tags :  明白\n",
      "can't find tags :  鬼打牆\n",
      "can't find tags :  裡面外面\n"
     ]
    }
   ],
   "source": [
    "Band_Tags = {}\n",
    "for band_name in Band_Song:\n",
    "    Song_Tags = {}\n",
    "    for song_name in Band_Song[band_name]:\n",
    "        try: \n",
    "            Last_song = network.get_track(band_name, song_name)\n",
    "        except: \n",
    "            print(\"can't find song : \", song_name)\n",
    "            continue\n",
    "        try:\n",
    "            Last_Tags = Last_song.get_top_tags()\n",
    "            A_Song_Tags = []\n",
    "            for tag in Last_Tags:\n",
    "                A_Song_Tags.append(tag.item.get_name())\n",
    "        except:\n",
    "            print(\"can't find tags : \", song_name)\n",
    "            continue\n",
    "        Song_Tags.update({song_name : A_Song_Tags})\n",
    "    Band_Tags.update({band_name : Song_Tags})\n"
   ]
  },
  {
   "cell_type": "code",
   "execution_count": 80,
   "metadata": {
    "scrolled": false
   },
   "outputs": [],
   "source": [
    "import json\n",
    "J_tags = json.dumps(Band_Tags,ensure_ascii=False)"
   ]
  },
  {
   "cell_type": "code",
   "execution_count": 94,
   "metadata": {
    "collapsed": true
   },
   "outputs": [],
   "source": [
    "#import codecs\n",
    "#with codecs.open('chinese_song_tags.json','w') as outfile:\n",
    "#    outfile.write(J_tags)"
   ]
  },
  {
   "cell_type": "code",
   "execution_count": null,
   "metadata": {},
   "outputs": [],
   "source": []
  },
  {
   "cell_type": "code",
   "execution_count": null,
   "metadata": {},
   "outputs": [],
   "source": []
  },
  {
   "cell_type": "code",
   "execution_count": null,
   "metadata": {
    "collapsed": true
   },
   "outputs": [],
   "source": []
  }
 ],
 "metadata": {
  "kernelspec": {
   "display_name": "Python 3",
   "language": "python",
   "name": "python3"
  },
  "language_info": {
   "codemirror_mode": {
    "name": "ipython",
    "version": 3
   },
   "file_extension": ".py",
   "mimetype": "text/x-python",
   "name": "python",
   "nbconvert_exporter": "python",
   "pygments_lexer": "ipython3",
   "version": "3.6.1"
  }
 },
 "nbformat": 4,
 "nbformat_minor": 2
}
